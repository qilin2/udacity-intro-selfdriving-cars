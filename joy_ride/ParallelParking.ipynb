{
 "cells": [
  {
   "cell_type": "markdown",
   "metadata": {},
   "source": [
    "# Joy Ride - Part 3: Parallel Parking\n",
    "In this section you will write a function that implements the correct sequence of steps required to parallel park a vehicle.\n",
    "\n",
    "NOTE: for this segment the vehicle's maximum speed has been set to just over 4 mph. This should make parking a little easier.\n",
    "\n",
    "![](https://upload.wikimedia.org/wikipedia/commons/2/26/ParallelParkingAnimation.gif)"
   ]
  },
  {
   "cell_type": "markdown",
   "metadata": {},
   "source": [
    "If you have never heard of WASD keys, please check out this [link](https://en.wikipedia.org/wiki/Arrow_keys#WASD_keys).\n",
    "\n",
    "## Instructions to get started\n",
    "\n",
    "1. Run the `SETUP CELL` below this one by pressing `Ctrl + Enter`.\n",
    "    - If the cell does not run, delete the comment in the cell\n",
    "1. Click the button that says \"Load Car Simulator\". The simulator will appear below the button.\n",
    "1. Run the cell below the simulator, marked `CODE CELL` (hit `Ctrl + Enter`). \n",
    "1. Try to drive the car using WASD keys. You might notice a problem...\n",
    "1. Press the **Reset** button in the simulator and then modify the code in the `CODE CELL` as per the instructions in TODO comments. \n",
    "1. When you think you've fixed the problem, run the code cell again. \n",
    "\n",
    "**NOTE** - Depending on your computer, it may take a few minutes for the simulator to load! Please be patient.\n",
    "\n",
    "### Instructions to Reload the Simulator\n",
    "Once the simulator is loaded, the `SETUP CELL` cannot be rerun, or it will prevent the simulator from appearing. If something happens to the simulator, you can do the following:\n",
    "- Go to Jupyter’s menu: Kernel --> Restart and Clear Output\n",
    "- Reload the page (Cmd-R)\n",
    "- Run the first cell again\n",
    "- Click the Green `Load Car Simulator` button"
   ]
  },
  {
   "cell_type": "code",
   "execution_count": 1,
   "metadata": {},
   "outputs": [
    {
     "data": {
      "text/html": [
       "<link rel=\"stylesheet\" type=\"text/css\" href=\"buttonStyle.css\">\n",
       "<button id=\"launcher\">Load Car Simulator </button>\n",
       "<button id=\"restart\">Restart Connection</button>\n",
       "<script src=\"setupLauncher.js\"></script><div id=\"simulator_frame\"></sim>\n",
       "<script src=\"kernelRestart.js\"></script>"
      ],
      "text/plain": [
       "<IPython.core.display.HTML object>"
      ]
     },
     "metadata": {},
     "output_type": "display_data"
    }
   ],
   "source": [
    "%%HTML\n",
    "<link rel=\"stylesheet\" type=\"text/css\" href=\"buttonStyle.css\">\n",
    "<button id=\"launcher\">Load Car Simulator </button>\n",
    "<button id=\"restart\">Restart Connection</button>\n",
    "<script src=\"setupLauncher.js\"></script><div id=\"simulator_frame\"></sim>\n",
    "<script src=\"kernelRestart.js\"></script>"
   ]
  },
  {
   "cell_type": "code",
   "execution_count": null,
   "metadata": {},
   "outputs": [],
   "source": [
    "# Before running any code changes make sure to click the button \"Restart Connection\" above first.\n",
    "# Also make sure to click Reset in the simulator to refresh the connection.\n",
    "# After making any code changes, make sure to click the button \"Restart Connection\" above first. Then re-run your code cell (Ctrl+Enter).\n",
    "# You need to wait for the Kernel Ready message.\n",
    "\n",
    "car_parameters = {\"throttle\": 0, \"steer\": 0, \"brake\": 0}\n",
    "\n",
    "def control(pos_x, pos_y, time, velocity):\n",
    "    \"\"\" Controls the simulated car\"\"\"\n",
    "    global car_parameters\n",
    "    \n",
    "    \n",
    "    # TODO: Use WASD keys in simulator to gain an intuitive feel of parallel parking.\n",
    "    # Pay close attention to the time, position, and velocity in the simulator.\n",
    "    \n",
    "    # TODO: Use this information to make decisions about how to set your car parameters\n",
    "    \n",
    "    # In this example the car will drive forward for three seconds\n",
    "    # and then backs up until its pos_y is less than 32 then comes to a stop by braking\n",
    "    if time < 0.6:\n",
    "        car_parameters['throttle'] = -1\n",
    "    elif pos_y > 35.4:\n",
    "        car_parameters['throttle'] = -1\n",
    "        car_parameters['steer']    = 25\n",
    "    elif pos_y > 31.9 and pos_x < 129.2:\n",
    "        car_parameters['throttle'] = -1\n",
    "        car_parameters['steer']    = -25    \n",
    "    else:\n",
    "        car_parameters['steer']    = 0\n",
    "        car_parameters['throttle'] = 0\n",
    "        car_parameters['brake'] = 1\n",
    "        \n",
    "    return car_parameters\n",
    "    \n",
    "import src.simulate as sim\n",
    "sim.run(control)"
   ]
  },
  {
   "cell_type": "markdown",
   "metadata": {},
   "source": [
    "# Submitting this Project!\n",
    "Your parallel park function is correct when:\n",
    "\n",
    "1. Your car doesn't hit any other cars.\n",
    "2. Your car stops completely inside of the right lane.\n",
    "\n",
    "Once you've got it working, it's time to submit. Submit by pressing the `SUBMIT` button at the lower right corner of this page."
   ]
  },
  {
   "cell_type": "code",
   "execution_count": null,
   "metadata": {},
   "outputs": [],
   "source": [
    "#Sources: \n",
    "#1)Parking Tutorial: https://www.youtube.com/watch?v=l4LcfZeS4qw\n",
    "#2)Parallel Parking: https://www.youtube.com/watch?v=Sc3J-KRJb4o\n",
    "\n",
    "#Import Libraries\n",
    "from Car import car \n",
    "import time\n",
    "\n",
    "#Function(s)\n",
    "def parking(car)\n",
    "\n",
    "#set throttle to reverse mode in max speed.\n",
    "car.steer(0)\n",
    "car.gas(-1)\n",
    "time.sleep(1)\n",
    "\n",
    "#tap brake pedals to alert/signal surrounding cars that you are a\n",
    "car.gas(0)\n",
    "time.sleep(0.5)\n",
    "\n",
    "#steers right backwards in half speed then stops for 3 seconds.\n",
    "#sets the car direction at a -45/7pi/4 degrees angle to southeast.\n",
    "car.steer(25)\n",
    "car.gas(-0.5)\n",
    "time.sleep(3)\n",
    "\n",
    "#steers left backwards in half speed to realign in initial direction and be parallel to the curb.\n",
    "#sets the car direction at a -135/5pi/4 degrees angle to southwest.\n",
    "car.steer(-25)\n",
    "car.gas(-0.5)\n",
    "time.sleep(3)\n",
    "\n",
    "#reset car direction to default to initial direction/ straight direction.\n",
    "car.steer(0)\n",
    "time.sleep(1)\n",
    "\n",
    "#set throttle to positive to readjust parking space in between cars to provide enough space to drive out of it and to not affect surrounding cars' parking or driving out of it.\n",
    "#counters backward acceleration. src: https://www.allstate.com/tr/car-insurance/how-to-parallel-park.aspx\n",
    "car.gas(0.05)\n",
    "time.sleep(1)\n",
    "\n",
    "#Parks the car.\n",
    "car.gas(0)\n",
    "time.sleep(1.5)\n",
    "\n",
    "#Run Code\n",
    "car = Car()\n",
    "parking(car)"
   ]
  }
 ],
 "metadata": {
  "kernelspec": {
   "display_name": "Python 3",
   "language": "python",
   "name": "python3"
  },
  "language_info": {
   "codemirror_mode": {
    "name": "ipython",
    "version": 3
   },
   "file_extension": ".py",
   "mimetype": "text/x-python",
   "name": "python",
   "nbconvert_exporter": "python",
   "pygments_lexer": "ipython3",
   "version": "3.6.3"
  }
 },
 "nbformat": 4,
 "nbformat_minor": 2
}
